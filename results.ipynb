{
 "cells": [
  {
   "cell_type": "markdown",
   "id": "d45385e1",
   "metadata": {
    "papermill": {
     "duration": 0.003509,
     "end_time": "2023-08-03T20:41:41.571749",
     "exception": false,
     "start_time": "2023-08-03T20:41:41.568240",
     "status": "completed"
    },
    "tags": []
   },
   "source": [
    "# Create Submission File"
   ]
  },
  {
   "cell_type": "code",
   "execution_count": 1,
   "id": "52ab6010",
   "metadata": {
    "execution": {
     "iopub.execute_input": "2023-08-03T20:41:41.580112Z",
     "iopub.status.busy": "2023-08-03T20:41:41.579585Z",
     "iopub.status.idle": "2023-08-03T20:41:42.574519Z",
     "shell.execute_reply": "2023-08-03T20:41:42.573662Z"
    },
    "papermill": {
     "duration": 1.002136,
     "end_time": "2023-08-03T20:41:42.577093",
     "exception": false,
     "start_time": "2023-08-03T20:41:41.574957",
     "status": "completed"
    },
    "tags": []
   },
   "outputs": [],
   "source": [
    "import polars as pl\n",
    "\n",
    "test_df = pl.read_parquet('../input/comp9417-preprocessing-and-test-data/test_df.parquet')"
   ]
  },
  {
   "cell_type": "code",
   "execution_count": 2,
   "id": "20e37138",
   "metadata": {
    "execution": {
     "iopub.execute_input": "2023-08-03T20:41:42.584323Z",
     "iopub.status.busy": "2023-08-03T20:41:42.583940Z",
     "iopub.status.idle": "2023-08-03T20:41:42.588064Z",
     "shell.execute_reply": "2023-08-03T20:41:42.587291Z"
    },
    "papermill": {
     "duration": 0.010338,
     "end_time": "2023-08-03T20:41:42.590331",
     "exception": false,
     "start_time": "2023-08-03T20:41:42.579993",
     "status": "completed"
    },
    "tags": []
   },
   "outputs": [],
   "source": [
    "id2type = {0: 'clicks', 1: 'carts', 2: 'orders'}\n",
    "type2id = {'clicks': 0, 'carts': 1, 'orders': 2}"
   ]
  },
  {
   "cell_type": "code",
   "execution_count": 3,
   "id": "aaa38a7c",
   "metadata": {
    "execution": {
     "iopub.execute_input": "2023-08-03T20:41:42.598266Z",
     "iopub.status.busy": "2023-08-03T20:41:42.597179Z",
     "iopub.status.idle": "2023-08-03T20:41:50.279520Z",
     "shell.execute_reply": "2023-08-03T20:41:50.278523Z"
    },
    "papermill": {
     "duration": 7.688873,
     "end_time": "2023-08-03T20:41:50.282326",
     "exception": false,
     "start_time": "2023-08-03T20:41:42.593453",
     "status": "completed"
    },
    "tags": []
   },
   "outputs": [],
   "source": [
    "# Get test data\n",
    "import polars as pl\n",
    "import numpy as np\n",
    "import pandas as pd\n",
    "\n",
    "from pathlib import Path\n",
    "\n",
    "data_path = Path('/kaggle/input/otto-recommender-system/')\n",
    "\n",
    "test_sessions = pd.DataFrame()\n",
    "chunks = pd.read_json(data_path / 'test.jsonl', lines=True, chunksize=100_000)\n",
    "\n",
    "for e, chunk in enumerate(chunks):\n",
    "    event_dict = {\n",
    "        'session': [],\n",
    "        'aid': [],\n",
    "        'ts': [],\n",
    "        'type': [],\n",
    "    }\n",
    "    if e < 2:\n",
    "        for session, events in zip(chunk['session'].tolist(), chunk['events'].tolist()):\n",
    "            for event in events:\n",
    "                event_dict['session'].append(session)\n",
    "                event_dict['aid'].append(event['aid'])\n",
    "                event_dict['ts'].append(event['ts'])\n",
    "                event_dict['type'].append(event['type'])\n",
    "        chunk_session = pd.DataFrame(event_dict)\n",
    "        test_sessions = pd.concat([test_sessions, chunk_session])\n",
    "    else:\n",
    "        break\n",
    "        \n",
    "\n",
    "test_sessions = pl.from_pandas(test_sessions.reset_index(drop=True))\n",
    "test_sessions = test_sessions.groupby('session').agg(pl.all()).sort(by='session')"
   ]
  },
  {
   "cell_type": "code",
   "execution_count": 4,
   "id": "62e77f2b",
   "metadata": {
    "execution": {
     "iopub.execute_input": "2023-08-03T20:41:50.289639Z",
     "iopub.status.busy": "2023-08-03T20:41:50.289230Z",
     "iopub.status.idle": "2023-08-03T20:41:50.293972Z",
     "shell.execute_reply": "2023-08-03T20:41:50.293191Z"
    },
    "papermill": {
     "duration": 0.010571,
     "end_time": "2023-08-03T20:41:50.295900",
     "exception": false,
     "start_time": "2023-08-03T20:41:50.285329",
     "status": "completed"
    },
    "tags": []
   },
   "outputs": [],
   "source": [
    "import pickle\n",
    "\n",
    "def load_model(name):\n",
    "    with open(name, 'rb') as file:  \n",
    "        model = pickle.load(file)\n",
    "        \n",
    "    return model"
   ]
  },
  {
   "cell_type": "code",
   "execution_count": 5,
   "id": "4d76dd5b",
   "metadata": {
    "execution": {
     "iopub.execute_input": "2023-08-03T20:41:50.303076Z",
     "iopub.status.busy": "2023-08-03T20:41:50.302468Z",
     "iopub.status.idle": "2023-08-03T20:41:50.316207Z",
     "shell.execute_reply": "2023-08-03T20:41:50.315243Z"
    },
    "papermill": {
     "duration": 0.019812,
     "end_time": "2023-08-03T20:41:50.318534",
     "exception": false,
     "start_time": "2023-08-03T20:41:50.298722",
     "status": "completed"
    },
    "tags": []
   },
   "outputs": [],
   "source": [
    "def get_df(model_long, model_short):\n",
    "    event_types = ['click', 'cart', 'order']\n",
    "    models = []\n",
    "    for event in event_types:\n",
    "        models.append(load_model(f'../input/comp9417-training-{model_long}/{model_short}_{event}.pkl'))\n",
    "\n",
    "    model_click = models[0]\n",
    "    model_cart = models[1]\n",
    "    model_order = models[2]\n",
    "\n",
    "    click_scores = model_click.predict(test_df.to_pandas())\n",
    "    cart_scores = model_cart.predict(test_df.to_pandas())\n",
    "    order_scores = model_order.predict(test_df.to_pandas())\n",
    "\n",
    "    pred_df = test_df.with_columns(click_scores = pl.lit(click_scores), cart_scores = pl.lit(cart_scores), order_scores = pl.lit(order_scores))\n",
    "    \n",
    "    click_preds = pred_df.groupby('session').agg(pl.col('aid').sort_by('click_scores', descending=True).slice(0,20))\n",
    "    cart_preds = pred_df.groupby('session').agg(pl.col('aid').sort_by('cart_scores', descending=True).slice(0,20))\n",
    "    order_preds = pred_df.groupby('session').agg(pl.col('aid').sort_by('order_scores', descending=True).slice(0,20))\n",
    "\n",
    "    click_new = click_preds.with_columns(\n",
    "        pl.lit('clicks').alias('type'),\n",
    "        (pl.col('session').cast(pl.Utf8) + '_clicks').alias('session_type'),\n",
    "        pl.col('aid').cast(pl.List(pl.Utf8))\n",
    "    ).rename({'aid':'labels'}).drop('session').drop('type')\n",
    "    cart_new = cart_preds.with_columns(\n",
    "        pl.lit('carts').alias('type'),\n",
    "        (pl.col('session').cast(pl.Utf8) + '_carts').alias('session_type'),\n",
    "        pl.col('aid').cast(pl.List(pl.Utf8))\n",
    "    ).rename({'aid':'labels'}).drop('session').drop('type')\n",
    "    order_new = order_preds.with_columns(\n",
    "        pl.lit('orders').alias('type'),\n",
    "        (pl.col('session').cast(pl.Utf8) + '_orders').alias('session_type'),\n",
    "        pl.col('aid').cast(pl.List(pl.Utf8))\n",
    "    ).rename({'aid':'labels'}).drop('session').drop('type')\n",
    "\n",
    "    preds = pl.concat([click_new, cart_new, order_new]).to_pandas()\n",
    "    print(preds)\n",
    "    preds['labels'] = preds['labels'].apply(lambda x: ' '.join(x))\n",
    "    preds = preds[['session_type', 'labels']]\n",
    "    preds = preds.sort_values(by='session_type')\n",
    "\n",
    "    print(preds)\n",
    "    return preds"
   ]
  },
  {
   "cell_type": "code",
   "execution_count": 6,
   "id": "f7acba74",
   "metadata": {
    "execution": {
     "iopub.execute_input": "2023-08-03T20:41:50.325721Z",
     "iopub.status.busy": "2023-08-03T20:41:50.325343Z",
     "iopub.status.idle": "2023-08-03T20:42:00.926770Z",
     "shell.execute_reply": "2023-08-03T20:42:00.925603Z"
    },
    "papermill": {
     "duration": 10.60816,
     "end_time": "2023-08-03T20:42:00.929510",
     "exception": false,
     "start_time": "2023-08-03T20:41:50.321350",
     "status": "completed"
    },
    "tags": []
   },
   "outputs": [
    {
     "name": "stderr",
     "output_type": "stream",
     "text": [
      "/opt/conda/lib/python3.10/site-packages/scipy/__init__.py:146: UserWarning: A NumPy version >=1.16.5 and <1.23.0 is required for this version of SciPy (detected version 1.23.5\n",
      "  warnings.warn(f\"A NumPy version >={np_minversion} and <{np_maxversion}\"\n"
     ]
    },
    {
     "name": "stdout",
     "output_type": "stream",
     "text": [
      "                                                   labels     session_type\n",
      "0                                      [1236775, 1500315]  12973588_clicks\n",
      "1                                               [1102222]  12906676_clicks\n",
      "2                                               [1187898]  12927668_clicks\n",
      "3                                                [475026]  12928824_clicks\n",
      "4       [109279, 215743, 333489, 616967, 1699076, 8116...  12976864_clicks\n",
      "...                                                   ...              ...\n",
      "599995                                          [1300613]  13002683_orders\n",
      "599996                                          [1069472]  13038687_orders\n",
      "599997  [263827, 458127, 591254, 1798365, 1440544, 495...  13077239_orders\n",
      "599998                                          [1305957]  13080071_orders\n",
      "599999  [420907, 297694, 452981, 535399, 1277541, 1058...  12911763_orders\n",
      "\n",
      "[600000 rows x 2 columns]\n",
      "           session_type                                             labels\n",
      "371822   12899779_carts  3295 45290 164098 225209 731692 1340695 150532...\n",
      "197589  12899779_clicks  3295 45290 164098 225209 1505323 1340695 63753...\n",
      "557937  12899779_orders  3295 731692 164098 1246235 523135 1340695 6375...\n",
      "232280   12899780_carts                                     582732 1142000\n",
      "9016    12899780_clicks                                     582732 1142000\n",
      "...                 ...                                                ...\n",
      "76395   13099777_clicks                 311371 114286 87372 468584 1459262\n",
      "499808  13099777_orders                 311371 114286 468584 87372 1459262\n",
      "312349   13099778_carts                                     1025490 926609\n",
      "145908  13099778_clicks                                     1025490 926609\n",
      "544768  13099778_orders                                     1025490 926609\n",
      "\n",
      "[600000 rows x 2 columns]\n"
     ]
    }
   ],
   "source": [
    "# output\n",
    "preds = get_df('lightgbm', 'lgbm')\n",
    "preds.to_csv('/kaggle/working/lgbm_submission.csv', index=False)  "
   ]
  },
  {
   "cell_type": "code",
   "execution_count": 7,
   "id": "f2032cd0",
   "metadata": {
    "execution": {
     "iopub.execute_input": "2023-08-03T20:42:00.937930Z",
     "iopub.status.busy": "2023-08-03T20:42:00.937552Z",
     "iopub.status.idle": "2023-08-03T20:42:19.617186Z",
     "shell.execute_reply": "2023-08-03T20:42:19.616052Z"
    },
    "papermill": {
     "duration": 18.687315,
     "end_time": "2023-08-03T20:42:19.620193",
     "exception": false,
     "start_time": "2023-08-03T20:42:00.932878",
     "status": "completed"
    },
    "tags": []
   },
   "outputs": [
    {
     "name": "stdout",
     "output_type": "stream",
     "text": [
      "                                                   labels     session_type\n",
      "0                                               [1071714]  13087764_clicks\n",
      "1       [206418, 206418, 390163, 274783, 1338481, 1593...  13046712_clicks\n",
      "2                                               [1140474]  13025652_clicks\n",
      "3                                                [549503]  12925728_clicks\n",
      "4                                       [1005261, 429620]  13034928_clicks\n",
      "...                                                   ...              ...\n",
      "599995                                 [1487224, 1282212]  12926843_orders\n",
      "599996  [142737, 1289500, 1568011, 1389374, 444620, 21...  13041223_orders\n",
      "599997                                          [1200369]  13060791_orders\n",
      "599998                         [1678311, 1658167, 133083]  13089863_orders\n",
      "599999                                          [1319345]  12917531_orders\n",
      "\n",
      "[600000 rows x 2 columns]\n",
      "           session_type                                             labels\n",
      "399088   12899779_carts  3295 45290 164098 225209 1340695 731692 150532...\n",
      "153220  12899779_clicks  3295 225209 45290 164098 1505323 1340695 73169...\n",
      "569793  12899779_orders  3295 731692 164098 637538 1340695 1505323 4529...\n",
      "201971   12899780_carts                                     582732 1142000\n",
      "5626    12899780_clicks                                     582732 1142000\n",
      "...                 ...                                                ...\n",
      "73704   13099777_clicks                 311371 87372 114286 468584 1459262\n",
      "470254  13099777_orders                 311371 114286 87372 468584 1459262\n",
      "322747   13099778_carts                                     1025490 926609\n",
      "109782  13099778_clicks                                     926609 1025490\n",
      "539744  13099778_orders                                     926609 1025490\n",
      "\n",
      "[600000 rows x 2 columns]\n"
     ]
    }
   ],
   "source": [
    "preds = get_df('xgboost', 'xgb')\n",
    "preds.to_csv('/kaggle/working/xgb_submission.csv', index=False)  "
   ]
  }
 ],
 "metadata": {
  "kernelspec": {
   "display_name": "Python 3",
   "language": "python",
   "name": "python3"
  },
  "language_info": {
   "codemirror_mode": {
    "name": "ipython",
    "version": 3
   },
   "file_extension": ".py",
   "mimetype": "text/x-python",
   "name": "python",
   "nbconvert_exporter": "python",
   "pygments_lexer": "ipython3",
   "version": "3.10.12"
  },
  "papermill": {
   "default_parameters": {},
   "duration": 49.103633,
   "end_time": "2023-08-03T20:42:21.047862",
   "environment_variables": {},
   "exception": null,
   "input_path": "__notebook__.ipynb",
   "output_path": "__notebook__.ipynb",
   "parameters": {},
   "start_time": "2023-08-03T20:41:31.944229",
   "version": "2.4.0"
  }
 },
 "nbformat": 4,
 "nbformat_minor": 5
}
