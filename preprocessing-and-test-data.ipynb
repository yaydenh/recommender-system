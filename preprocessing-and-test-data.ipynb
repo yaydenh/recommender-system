{
 "cells": [
  {
   "cell_type": "markdown",
   "id": "966b1798",
   "metadata": {
    "papermill": {
     "duration": 0.009459,
     "end_time": "2023-08-03T20:04:32.661183",
     "exception": false,
     "start_time": "2023-08-03T20:04:32.651724",
     "status": "completed"
    },
    "tags": []
   },
   "source": [
    "# Data Preprocessing"
   ]
  },
  {
   "cell_type": "code",
   "execution_count": 1,
   "id": "34fbc455",
   "metadata": {
    "execution": {
     "iopub.execute_input": "2023-08-03T20:04:32.681605Z",
     "iopub.status.busy": "2023-08-03T20:04:32.681080Z",
     "iopub.status.idle": "2023-08-03T20:04:48.179140Z",
     "shell.execute_reply": "2023-08-03T20:04:48.177657Z"
    },
    "papermill": {
     "duration": 15.512365,
     "end_time": "2023-08-03T20:04:48.182636",
     "exception": false,
     "start_time": "2023-08-03T20:04:32.670271",
     "status": "completed"
    },
    "tags": []
   },
   "outputs": [
    {
     "name": "stdout",
     "output_type": "stream",
     "text": [
      "Requirement already satisfied: polars in /opt/conda/lib/python3.10/site-packages (0.18.6)\r\n"
     ]
    }
   ],
   "source": [
    "!pip install polars"
   ]
  },
  {
   "cell_type": "code",
   "execution_count": 2,
   "id": "acf5e93a",
   "metadata": {
    "execution": {
     "iopub.execute_input": "2023-08-03T20:04:48.205845Z",
     "iopub.status.busy": "2023-08-03T20:04:48.203911Z",
     "iopub.status.idle": "2023-08-03T20:05:04.014778Z",
     "shell.execute_reply": "2023-08-03T20:05:04.012990Z"
    },
    "papermill": {
     "duration": 15.827095,
     "end_time": "2023-08-03T20:05:04.018968",
     "exception": false,
     "start_time": "2023-08-03T20:04:48.191873",
     "status": "completed"
    },
    "tags": []
   },
   "outputs": [],
   "source": [
    "import polars as pl\n",
    "\n",
    "train = pl.read_parquet('../input/otto-train-and-test-data-for-local-validation/train.parquet')\n",
    "validA = pl.read_parquet('../input/otto-train-and-test-data-for-local-validation/test.parquet')\n",
    "validB = pl.read_parquet('../input/otto-train-and-test-data-for-local-validation/test_labels.parquet')"
   ]
  },
  {
   "cell_type": "code",
   "execution_count": 3,
   "id": "03d66d30",
   "metadata": {
    "execution": {
     "iopub.execute_input": "2023-08-03T20:05:04.046882Z",
     "iopub.status.busy": "2023-08-03T20:05:04.045991Z",
     "iopub.status.idle": "2023-08-03T20:05:04.058542Z",
     "shell.execute_reply": "2023-08-03T20:05:04.056817Z"
    },
    "papermill": {
     "duration": 0.032108,
     "end_time": "2023-08-03T20:05:04.061246",
     "exception": false,
     "start_time": "2023-08-03T20:05:04.029138",
     "status": "completed"
    },
    "tags": []
   },
   "outputs": [
    {
     "name": "stdout",
     "output_type": "stream",
     "text": [
      "[Int32, Int32, Int32, UInt8]\n",
      "[Int32, Int32, Int32, UInt8]\n"
     ]
    }
   ],
   "source": [
    "print(train.dtypes)\n",
    "print(validA.dtypes)"
   ]
  },
  {
   "cell_type": "code",
   "execution_count": 4,
   "id": "6d352a81",
   "metadata": {
    "execution": {
     "iopub.execute_input": "2023-08-03T20:05:04.081767Z",
     "iopub.status.busy": "2023-08-03T20:05:04.081318Z",
     "iopub.status.idle": "2023-08-03T20:05:59.394837Z",
     "shell.execute_reply": "2023-08-03T20:05:59.393030Z"
    },
    "papermill": {
     "duration": 55.3375,
     "end_time": "2023-08-03T20:05:59.407870",
     "exception": false,
     "start_time": "2023-08-03T20:05:04.070370",
     "status": "completed"
    },
    "tags": []
   },
   "outputs": [
    {
     "name": "stdout",
     "output_type": "stream",
     "text": [
      "152268691 5763556 1007030\n",
      "shape: (152_268_691, 4)\n",
      "┌──────────┬─────────┬────────────┬──────┐\n",
      "│ session  ┆ aid     ┆ ts         ┆ type │\n",
      "│ ---      ┆ ---     ┆ ---        ┆ ---  │\n",
      "│ i32      ┆ i32     ┆ i32        ┆ u8   │\n",
      "╞══════════╪═════════╪════════════╪══════╡\n",
      "│ 0        ┆ 1517085 ┆ 1659304800 ┆ 0    │\n",
      "│ 0        ┆ 1563459 ┆ 1659304904 ┆ 0    │\n",
      "│ 0        ┆ 1309446 ┆ 1659367439 ┆ 0    │\n",
      "│ 0        ┆ 16246   ┆ 1659367719 ┆ 0    │\n",
      "│ …        ┆ …       ┆ …          ┆ …    │\n",
      "│ 11098496 ┆ 219035  ┆ 1661119183 ┆ 0    │\n",
      "│ 11098507 ┆ 1195266 ┆ 1661119189 ┆ 0    │\n",
      "│ 11098512 ┆ 8664    ┆ 1661119192 ┆ 0    │\n",
      "│ 11098522 ┆ 1524949 ┆ 1661119197 ┆ 0    │\n",
      "└──────────┴─────────┴────────────┴──────┘ shape: (5_763_556, 4)\n",
      "┌──────────┬─────────┬────────────┬──────┐\n",
      "│ session  ┆ aid     ┆ ts         ┆ type │\n",
      "│ ---      ┆ ---     ┆ ---        ┆ ---  │\n",
      "│ i32      ┆ i32     ┆ i32        ┆ u8   │\n",
      "╞══════════╪═════════╪════════════╪══════╡\n",
      "│ 11098529 ┆ 1105029 ┆ 1661119200 ┆ 0    │\n",
      "│ 11098531 ┆ 452188  ┆ 1661119200 ┆ 0    │\n",
      "│ 11098531 ┆ 1239060 ┆ 1661119227 ┆ 0    │\n",
      "│ 11098531 ┆ 1557766 ┆ 1661119243 ┆ 0    │\n",
      "│ …        ┆ …       ┆ …          ┆ …    │\n",
      "│ 12899763 ┆ 1539032 ┆ 1661723978 ┆ 0    │\n",
      "│ 12899769 ┆ 719585  ┆ 1661723962 ┆ 0    │\n",
      "│ 12899771 ┆ 1160655 ┆ 1661723965 ┆ 0    │\n",
      "│ 12899775 ┆ 1743151 ┆ 1661723970 ┆ 0    │\n",
      "└──────────┴─────────┴────────────┴──────┘ shape: (1_007_030, 3)\n",
      "┌──────────┬────────┬─────────────────────────────┐\n",
      "│ session  ┆ type   ┆ ground_truth                │\n",
      "│ ---      ┆ ---    ┆ ---                         │\n",
      "│ i64      ┆ str    ┆ list[i64]                   │\n",
      "╞══════════╪════════╪═════════════════════════════╡\n",
      "│ 11098529 ┆ clicks ┆ [1105029]                   │\n",
      "│ 11098531 ┆ orders ┆ [1365569]                   │\n",
      "│ 11098533 ┆ clicks ┆ [1417450]                   │\n",
      "│ 11098533 ┆ carts  ┆ [108676, 1406660, … 777657] │\n",
      "│ …        ┆ …      ┆ …                           │\n",
      "│ 12899763 ┆ clicks ┆ [750901]                    │\n",
      "│ 12899769 ┆ clicks ┆ [1393784]                   │\n",
      "│ 12899771 ┆ clicks ┆ [215084]                    │\n",
      "│ 12899775 ┆ clicks ┆ [1760714]                   │\n",
      "└──────────┴────────┴─────────────────────────────┘\n"
     ]
    }
   ],
   "source": [
    "import numpy as np\n",
    "\n",
    "# Get subset of data \n",
    "fraction_of_sessions = 0.2\n",
    "\n",
    "train_sessions = train['session'].sample(fraction=fraction_of_sessions, seed=42)\n",
    "train = train.filter(pl.col(\"session\").is_in(train_sessions))\n",
    "train = train.sort(\"session\")\n",
    "\n",
    "validation_sessions = validA['session'].sample(fraction=fraction_of_sessions, seed=42)\n",
    "validA = validA.filter(pl.col(\"session\").is_in(validation_sessions))\n",
    "validA = validA.sort(\"session\")\n",
    "\n",
    "validB = validB.filter(pl.col(\"session\").is_in(validation_sessions))\n",
    "validB = validB.sort(\"session\")\n",
    "\n",
    "max_ts, min_ts = max(train['ts']), min(train['ts'])\n",
    "\n",
    "print(train.shape[0], validA.shape[0], validB.shape[0])\n",
    "\n",
    "print(train, validA, validB)"
   ]
  },
  {
   "cell_type": "markdown",
   "id": "64204593",
   "metadata": {
    "papermill": {
     "duration": 0.009856,
     "end_time": "2023-08-03T20:05:59.427130",
     "exception": false,
     "start_time": "2023-08-03T20:05:59.417274",
     "status": "completed"
    },
    "tags": []
   },
   "source": [
    "## Candidate and Feature Generation"
   ]
  },
  {
   "cell_type": "code",
   "execution_count": 5,
   "id": "a013fc85",
   "metadata": {
    "execution": {
     "iopub.execute_input": "2023-08-03T20:05:59.448678Z",
     "iopub.status.busy": "2023-08-03T20:05:59.448203Z",
     "iopub.status.idle": "2023-08-03T20:05:59.457795Z",
     "shell.execute_reply": "2023-08-03T20:05:59.456366Z"
    },
    "papermill": {
     "duration": 0.023711,
     "end_time": "2023-08-03T20:05:59.460754",
     "exception": false,
     "start_time": "2023-08-03T20:05:59.437043",
     "status": "completed"
    },
    "tags": []
   },
   "outputs": [],
   "source": [
    "# Simple candidate generator - used to benchmark results\n",
    "def generate_candidates_simple(df, dict_format=False):\n",
    "    df = df.groupby(['session', 'aid']).agg(pl.count())\n",
    "    df = df.sort('session', 'count', descending=[False, True]).groupby('session').head(50)\n",
    "    if dict_format:\n",
    "        df = df.groupby('session').agg(pl.col(\"aid\"))\n",
    "        result = {}\n",
    "        for session, aid_list in zip(df['session'].to_list(), df['aid'].to_list()):\n",
    "            result[session] = aid_list \n",
    "        return result\n",
    "    \n",
    "    return df.select('session', 'aid').sort(['session', 'aid'])"
   ]
  },
  {
   "cell_type": "code",
   "execution_count": 6,
   "id": "675351a5",
   "metadata": {
    "execution": {
     "iopub.execute_input": "2023-08-03T20:05:59.482313Z",
     "iopub.status.busy": "2023-08-03T20:05:59.481886Z",
     "iopub.status.idle": "2023-08-03T20:05:59.498901Z",
     "shell.execute_reply": "2023-08-03T20:05:59.497612Z"
    },
    "papermill": {
     "duration": 0.032024,
     "end_time": "2023-08-03T20:05:59.502244",
     "exception": false,
     "start_time": "2023-08-03T20:05:59.470220",
     "status": "completed"
    },
    "tags": []
   },
   "outputs": [],
   "source": [
    "type_weight = {0: 1, 1: 6, 2: 3}\n",
    "\n",
    "def generate_covisit(df, event_type):\n",
    "    # look at carts and orders only when generating buy2buy covisit matrix\n",
    "    if event_type == 2:\n",
    "        df = df.filter(pl.col('type').is_in([1, 2]))\n",
    "    # sort by session_id and recency\n",
    "    df = df.sort(['session', 'ts'], descending=[False, True])\n",
    "    # get most recent events for each session, otherwise merge is too costly\n",
    "    df = df.groupby('session').tail(10)\n",
    "    # find pairs of items that were accessed within a day of each other\n",
    "    df = df.join(df, on='session', suffix=\"_next\")\n",
    "    df = df.filter((pl.col(\"aid\") != pl.col(\"aid_next\")) & \n",
    "                   (pl.col(\"type\") != pl.col(\"type_next\")) &\n",
    "                   (pl.col(\"ts\") != pl.col(\"ts_next\")))\n",
    "    df = df.with_columns(((pl.col(\"ts_next\") - pl.col(\"ts\")) / (24 * 60 * 60 * 1000)).alias(\"days_elapsed\"))\n",
    "    df = df.filter((pl.col(\"days_elapsed\") >= 0) & (pl.col(\"days_elapsed\") <= 1))\n",
    "    \n",
    "    # used for predicting clicks given past clicks/carts/orders\n",
    "    if event_type == 0:\n",
    "        # weight is combination of count and recency (represented by timestamp with max-min scaling)\n",
    "        df = df.with_columns(weight = (1 + 3*(pl.col(\"ts\") - min_ts)/(max_ts - min_ts)))\n",
    "        df = df.groupby(['aid', 'aid_next']).agg(pl.sum(\"weight\"))\n",
    "    # used for predicting future cart/orders given past carts/orders\n",
    "    elif event_type == 1:\n",
    "        # pairs are weighted according to event type\n",
    "        df = df.with_columns(pl.col(\"type\").map_dict(type_weight).alias(\"weight\"))\n",
    "        df = df.groupby(['aid', 'aid_next']).agg(pl.sum(\"weight\"))\n",
    "    elif event_type == 2:\n",
    "        # count of number of occurences of each pair\n",
    "        df = df.groupby(['aid', 'aid_next']).agg(pl.count().alias('weight'))\n",
    "    \n",
    "    df = df.sort(['aid', 'aid_next', 'weight'], descending=[False, False, True]).groupby('aid').head(40).select(['aid', 'aid_next'])\n",
    "    df = df.groupby('aid').agg(pl.col('aid_next'))\n",
    "    covisit = {}\n",
    "    for aid, aid_list in zip(df[\"aid\"], df[\"aid_next\"]):\n",
    "        covisit[aid] = aid_list.to_list()\n",
    "    \n",
    "    return covisit"
   ]
  },
  {
   "cell_type": "code",
   "execution_count": 7,
   "id": "fae0c7b4",
   "metadata": {
    "execution": {
     "iopub.execute_input": "2023-08-03T20:05:59.531251Z",
     "iopub.status.busy": "2023-08-03T20:05:59.530696Z",
     "iopub.status.idle": "2023-08-03T20:05:59.545671Z",
     "shell.execute_reply": "2023-08-03T20:05:59.543797Z"
    },
    "papermill": {
     "duration": 0.035303,
     "end_time": "2023-08-03T20:05:59.549277",
     "exception": false,
     "start_time": "2023-08-03T20:05:59.513974",
     "status": "completed"
    },
    "tags": []
   },
   "outputs": [],
   "source": [
    "from collections import Counter\n",
    "\n",
    "type_weight = {0: 1, 1: 6, 2: 3}\n",
    "\n",
    "def generate_candidates(df, covisit):\n",
    "    aids = df[\"aid\"].to_list()\n",
    "    types = df[\"type\"].to_list()\n",
    "    unique_aids = list(dict.fromkeys(aids[::-1]))\n",
    "\n",
    "    time_weights = np.logspace(0.1,1,len(aids),base=2, endpoint=True)-1\n",
    "    aids_counter = {}\n",
    "    for aid, w, t in zip(aids, time_weights, types):\n",
    "        aids_counter[aid] = aids_counter.get(aid, 0) + w * type_weight[t]\n",
    "\n",
    "    aids_counter_sorted = sorted(aids_counter.items(), key=lambda x: x[1])\n",
    "    candidates = [k for k, v in aids_counter_sorted]\n",
    "\n",
    "    if len(candidates) <= 20:\n",
    "        secondary_candidates_counter = Counter()\n",
    "        for candidate in candidates:\n",
    "            secondary_candidates_counter.update(covisit.get(aid, []))  \n",
    "        secondary_candidates = [k for k, v in secondary_candidates_counter.most_common(40)]\n",
    "        return candidates[:40] + secondary_candidates[:(40 - len(candidates))]\n",
    "\n",
    "    return candidates[:40]"
   ]
  },
  {
   "cell_type": "code",
   "execution_count": 8,
   "id": "2d3e652d",
   "metadata": {
    "execution": {
     "iopub.execute_input": "2023-08-03T20:05:59.572106Z",
     "iopub.status.busy": "2023-08-03T20:05:59.571565Z",
     "iopub.status.idle": "2023-08-03T20:05:59.584426Z",
     "shell.execute_reply": "2023-08-03T20:05:59.583289Z"
    },
    "papermill": {
     "duration": 0.028861,
     "end_time": "2023-08-03T20:05:59.588094",
     "exception": false,
     "start_time": "2023-08-03T20:05:59.559233",
     "status": "completed"
    },
    "tags": []
   },
   "outputs": [],
   "source": [
    "# Generate Session Features \n",
    "def generate_session_features(train_df_user):\n",
    "    df_session_grouped = train_df_user.sort('session', 'ts', descending=[False, True]).groupby('session')\n",
    "    df_session_grouped_clicks = train_df_user.filter(train_df_user['type'] == 0).sort('session', 'ts', descending=[False, True]).groupby('session')\n",
    "    df_session_grouped_carts = train_df_user.filter(train_df_user['type'] == 1).sort('session', 'ts', descending=[False, True]).groupby('session')\n",
    "    df_session_grouped_orders = train_df_user.filter(train_df_user['type'] == 2).sort('session', 'ts', descending=[False, True]).groupby('session')\n",
    "\n",
    "    # last event type and aid\n",
    "    last_event_type = df_session_grouped.agg(last_type=pl.col('type').first())\n",
    "\n",
    "    # length of session\n",
    "    session_length = df_session_grouped.agg(session_length=pl.col('ts').first() - pl.col('ts').last())\n",
    "\n",
    "    # duplication rate\n",
    "\n",
    "    # number of clicks, carts, orders, events that session\n",
    "    clicks_ratio = df_session_grouped_clicks.agg(clicks_ratio=pl.col('type').count())\n",
    "    carts_ratio = df_session_grouped_carts.agg(carts_ratio=pl.col('type').count())\n",
    "    orders_ratio = df_session_grouped_orders.agg(orders_ratio=pl.col('type').count())\n",
    "    events_ratio = df_session_grouped.agg(events_ratio=pl.col('type').count())\n",
    "\n",
    "    return [last_event_type, session_length, events_ratio, clicks_ratio, carts_ratio, orders_ratio]"
   ]
  },
  {
   "cell_type": "code",
   "execution_count": 9,
   "id": "0ce5cdb7",
   "metadata": {
    "execution": {
     "iopub.execute_input": "2023-08-03T20:05:59.612253Z",
     "iopub.status.busy": "2023-08-03T20:05:59.611754Z",
     "iopub.status.idle": "2023-08-03T20:07:16.979308Z",
     "shell.execute_reply": "2023-08-03T20:07:16.977737Z"
    },
    "papermill": {
     "duration": 77.383246,
     "end_time": "2023-08-03T20:07:16.983120",
     "exception": false,
     "start_time": "2023-08-03T20:05:59.599874",
     "status": "completed"
    },
    "tags": []
   },
   "outputs": [],
   "source": [
    "# AID FEATURES\n",
    "train_df_item = pl.concat([train, validA])\n",
    "\n",
    "# total interaction for aid\n",
    "interaction_counts = train_df_item['aid'].value_counts().sort(by='counts').rename({\"counts\":\"interaction_count\"})\n",
    "\n",
    "# click for aid\n",
    "click_counts = train_df_item.filter(train_df_item['type'] == 0).groupby('aid').agg(click_count=pl.count('type'))\n",
    "\n",
    "# cart for aid\n",
    "cart_counts = train_df_item.filter(train_df_item['type'] == 1).groupby('aid').agg(cart_count=pl.count('type'))\n",
    "\n",
    "# buy for aid\n",
    "buy_counts = train_df_item.filter(train_df_item['type'] == 2).groupby('aid').agg(buy_count=pl.count('type'))\n",
    "\n",
    "# last ts for aid\n",
    "last_ts = train_df_item.groupby('aid').agg(last_ts=pl.col('ts').max())\n",
    "\n",
    "# click, cart, buy ratios\n",
    "global_events_ratio = click_counts.join(cart_counts, on='aid').join(buy_counts, on='aid')\n",
    "global_events_ratio = global_events_ratio.with_columns(click2cart = pl.col('click_count') / pl.col('cart_count'))\n",
    "global_events_ratio = global_events_ratio.with_columns(cart2buy = pl.col('cart_count') / pl.col('buy_count'))\n",
    "global_events_ratio = global_events_ratio.with_columns(click2buy = pl.col('click_count') / pl.col('buy_count'))\n",
    "global_events_ratio = global_events_ratio.drop('click_count').drop('cart_count').drop('buy_count')\n",
    "\n",
    "# interaction rate in last 7 days\n",
    "last_ts_int = train_df_item['ts'].max()\n",
    "last_7_days_count = train_df_item.filter(train_df_item['ts'] >= last_ts_int - (7 * 24 * 60 * 60))['aid'].value_counts().sort(by='counts').rename({\"counts\":\"last7days_count\"})\n",
    "merged = interaction_counts.join(last_7_days_count, on='aid')\n",
    "merged = merged.with_columns(last7days_interaction_rate = pl.col('last7days_count') / pl.col('interaction_count'))\n",
    "last7days_interaction_count = merged.drop('interaction_count').drop('last7days_count')\n",
    "\n",
    "# inclusion rate in all sessions\n",
    "# sessions_with_aid / total_sessions\n",
    "total_sessions = train_df_item['aid'].n_unique()\n",
    "unique_sessions = train_df_item.groupby('aid').agg(unique_sessions=pl.n_unique('session')).sort(by='unique_sessions')\n",
    "inclusion_rate = unique_sessions.with_columns(inclusion_rate = pl.col('unique_sessions') * 1000 / total_sessions).drop('unique_sessions')\n",
    "\n",
    "# average interactions per hour over all sessions\n",
    "num_hours = train_df_item.groupby('aid').agg(num_hours = (pl.max('ts') - pl.min('ts')) / (60 * 60)).sort(by='num_hours')\n",
    "num_hours = num_hours.with_columns(num_hours = pl.when(num_hours['num_hours']==0).then(1).otherwise(num_hours['num_hours']))\n",
    "merged = num_hours.join(interaction_counts, on='aid')\n",
    "average_interactions_ph = merged.with_columns(average_interactions_ph = pl.col('interaction_count') / pl.col('num_hours'))\n",
    "average_interactions_ph = average_interactions_ph.drop('interaction_count').drop('num_hours')\n",
    "\n",
    "# average num clicks before buy\n",
    "# this bit too hard\n",
    "xd = train_df_item.sort(by=['session','ts'])\n",
    "aid_features = [interaction_counts, click_counts, buy_counts, last_ts, global_events_ratio, last7days_interaction_count, inclusion_rate, average_interactions_ph]"
   ]
  },
  {
   "cell_type": "code",
   "execution_count": 10,
   "id": "3b288033",
   "metadata": {
    "execution": {
     "iopub.execute_input": "2023-08-03T20:07:17.005402Z",
     "iopub.status.busy": "2023-08-03T20:07:17.004810Z",
     "iopub.status.idle": "2023-08-03T20:07:24.705361Z",
     "shell.execute_reply": "2023-08-03T20:07:24.704002Z"
    },
    "papermill": {
     "duration": 7.71558,
     "end_time": "2023-08-03T20:07:24.708659",
     "exception": false,
     "start_time": "2023-08-03T20:07:16.993079",
     "status": "completed"
    },
    "tags": []
   },
   "outputs": [],
   "source": [
    "import pandas as pd\n",
    "\n",
    "DISK_PIECES = 4\n",
    "\n",
    "# Improved speed for 2X using polars. \n",
    "def pqt_to_dict(path):\n",
    "    return pl.read_parquet(path).groupby('aid_x').agg(pl.col('aid_y')).to_pandas().set_index('aid_x').aid_y.apply(list).to_dict()\n",
    "\n",
    "# LOAD THREE CO-VISITATION MATRICES\n",
    "covisit_clicks = pqt_to_dict(f'/kaggle/input/otto-covisitation-matrix-parquet-files/top_20_clicks_v7_0.pqt')\n",
    "\n",
    "for k in range(1,DISK_PIECES): \n",
    "    covisit_clicks.update(pd.read_parquet(f'/kaggle/input/otto-covisitation-matrix-parquet-files/top_20_clicks_v7_{k}.pqt') )\n"
   ]
  },
  {
   "cell_type": "code",
   "execution_count": 11,
   "id": "b03cbbcb",
   "metadata": {
    "execution": {
     "iopub.execute_input": "2023-08-03T20:07:24.731002Z",
     "iopub.status.busy": "2023-08-03T20:07:24.730509Z",
     "iopub.status.idle": "2023-08-03T20:10:16.730247Z",
     "shell.execute_reply": "2023-08-03T20:10:16.728437Z"
    },
    "papermill": {
     "duration": 172.015096,
     "end_time": "2023-08-03T20:10:16.733944",
     "exception": false,
     "start_time": "2023-08-03T20:07:24.718848",
     "status": "completed"
    },
    "tags": []
   },
   "outputs": [],
   "source": [
    "# simple candidate generator\n",
    "# candidates_df = generate_candidates_simple(pl.concat([train, validA]))\n",
    "# train_df = validA.unique(subset=['session'])\n",
    "# train_df = candidates_df.join(train_df, on=\"session\", how=\"inner\").select(['session', 'aid'])\n",
    "\n",
    "EVENT_TYPE = 0\n",
    "# Add candidates + features to df\n",
    "train_df = validA.to_pandas()\n",
    "# covisit loaded above \n",
    "# covisit = generate_covisit(pl.concat([train, validA]), EVENT_TYPE)\n",
    "train_df = train_df.sort_values(['session', 'ts'], ascending=[True, False]).groupby('session').apply(lambda x: generate_candidates(x, covisit_clicks)).reset_index(name=\"aid\")\n",
    "train_df = pl.from_pandas(train_df)\n",
    "train_df.columns = ['session', 'aid']\n",
    "train_df = train_df.explode('aid')\n",
    "train_df = train_df.select([\n",
    "    pl.col('session').cast(pl.datatypes.Int32).alias('session'), \n",
    "    pl.col('aid').cast(pl.datatypes.Int32).alias('aid')\n",
    "])\n",
    "\n",
    "session_features = generate_session_features(validA)\n",
    "for session in session_features:\n",
    "    train_df = train_df.join(session, on='session', how='left')\n",
    "\n",
    "for aid in aid_features:\n",
    "    train_df = train_df.join(aid, on='aid', how='left')"
   ]
  },
  {
   "cell_type": "code",
   "execution_count": 12,
   "id": "247d31d9",
   "metadata": {
    "execution": {
     "iopub.execute_input": "2023-08-03T20:10:16.758442Z",
     "iopub.status.busy": "2023-08-03T20:10:16.757699Z",
     "iopub.status.idle": "2023-08-03T20:10:20.228794Z",
     "shell.execute_reply": "2023-08-03T20:10:20.227322Z"
    },
    "papermill": {
     "duration": 3.486295,
     "end_time": "2023-08-03T20:10:20.232210",
     "exception": false,
     "start_time": "2023-08-03T20:10:16.745915",
     "status": "completed"
    },
    "tags": []
   },
   "outputs": [
    {
     "name": "stdout",
     "output_type": "stream",
     "text": [
      "shape: (6_503_686, 19)\n",
      "┌──────────┬─────────┬───────────┬────────────┬───┬────────────┬──────────────┬──────────────┬─────┐\n",
      "│ session  ┆ aid     ┆ last_type ┆ session_le ┆ … ┆ last7days_ ┆ inclusion_ra ┆ average_inte ┆ gt  │\n",
      "│ ---      ┆ ---     ┆ ---       ┆ ngth       ┆   ┆ interactio ┆ te           ┆ ractions_ph  ┆ --- │\n",
      "│ i32      ┆ i32     ┆ u8        ┆ ---        ┆   ┆ n_rate     ┆ ---          ┆ ---          ┆ i32 │\n",
      "│          ┆         ┆           ┆ i32        ┆   ┆ ---        ┆ f64          ┆ f64          ┆     │\n",
      "│          ┆         ┆           ┆            ┆   ┆ f64        ┆              ┆              ┆     │\n",
      "╞══════════╪═════════╪═══════════╪════════════╪═══╪════════════╪══════════════╪══════════════╪═════╡\n",
      "│ 11098529 ┆ 1105029 ┆ 0         ┆ 0          ┆ … ┆ 0.020202   ┆ 0.077767     ┆ 0.297562     ┆ 1   │\n",
      "│ 11098531 ┆ 624163  ┆ 2         ┆ 546        ┆ … ┆ 0.013889   ┆ 0.026104     ┆ 0.147819     ┆ 0   │\n",
      "│ 11098531 ┆ 1553691 ┆ 2         ┆ 546        ┆ … ┆ 0.225806   ┆ 0.011964     ┆ 0.049012     ┆ 0   │\n",
      "│ 11098531 ┆ 1449555 ┆ 2         ┆ 546        ┆ … ┆ 0.068966   ┆ 0.00707      ┆ 0.085367     ┆ 0   │\n",
      "│ …        ┆ …       ┆ …         ┆ …          ┆ … ┆ …          ┆ …            ┆ …            ┆ …   │\n",
      "│ 12899763 ┆ 750901  ┆ 0         ┆ 22         ┆ … ┆ 0.103571   ┆ 0.097345     ┆ 0.424884     ┆ 1   │\n",
      "│ 12899769 ┆ 719585  ┆ 0         ┆ 0          ┆ … ┆ 0.046358   ┆ 0.203935     ┆ 0.903376     ┆ 0   │\n",
      "│ 12899771 ┆ 1160655 ┆ 0         ┆ 0          ┆ … ┆ 0.028571   ┆ 0.788547     ┆ 3.906964     ┆ 0   │\n",
      "│ 12899775 ┆ 1743151 ┆ 0         ┆ 0          ┆ … ┆ 0.009592   ┆ 9.182499     ┆ 59.729957    ┆ 0   │\n",
      "└──────────┴─────────┴───────────┴────────────┴───┴────────────┴──────────────┴──────────────┴─────┘ shape: (6_503_686, 19)\n",
      "┌──────────┬─────────┬───────────┬────────────┬───┬────────────┬──────────────┬──────────────┬─────┐\n",
      "│ session  ┆ aid     ┆ last_type ┆ session_le ┆ … ┆ last7days_ ┆ inclusion_ra ┆ average_inte ┆ gt  │\n",
      "│ ---      ┆ ---     ┆ ---       ┆ ngth       ┆   ┆ interactio ┆ te           ┆ ractions_ph  ┆ --- │\n",
      "│ i32      ┆ i32     ┆ u8        ┆ ---        ┆   ┆ n_rate     ┆ ---          ┆ ---          ┆ i32 │\n",
      "│          ┆         ┆           ┆ i32        ┆   ┆ ---        ┆ f64          ┆ f64          ┆     │\n",
      "│          ┆         ┆           ┆            ┆   ┆ f64        ┆              ┆              ┆     │\n",
      "╞══════════╪═════════╪═══════════╪════════════╪═══╪════════════╪══════════════╪══════════════╪═════╡\n",
      "│ 11098529 ┆ 1105029 ┆ 0         ┆ 0          ┆ … ┆ 0.020202   ┆ 0.077767     ┆ 0.297562     ┆ 0   │\n",
      "│ 11098531 ┆ 624163  ┆ 2         ┆ 546        ┆ … ┆ 0.013889   ┆ 0.026104     ┆ 0.147819     ┆ 0   │\n",
      "│ 11098531 ┆ 1553691 ┆ 2         ┆ 546        ┆ … ┆ 0.225806   ┆ 0.011964     ┆ 0.049012     ┆ 0   │\n",
      "│ 11098531 ┆ 1449555 ┆ 2         ┆ 546        ┆ … ┆ 0.068966   ┆ 0.00707      ┆ 0.085367     ┆ 0   │\n",
      "│ …        ┆ …       ┆ …         ┆ …          ┆ … ┆ …          ┆ …            ┆ …            ┆ …   │\n",
      "│ 12899763 ┆ 750901  ┆ 0         ┆ 22         ┆ … ┆ 0.103571   ┆ 0.097345     ┆ 0.424884     ┆ 0   │\n",
      "│ 12899769 ┆ 719585  ┆ 0         ┆ 0          ┆ … ┆ 0.046358   ┆ 0.203935     ┆ 0.903376     ┆ 0   │\n",
      "│ 12899771 ┆ 1160655 ┆ 0         ┆ 0          ┆ … ┆ 0.028571   ┆ 0.788547     ┆ 3.906964     ┆ 0   │\n",
      "│ 12899775 ┆ 1743151 ┆ 0         ┆ 0          ┆ … ┆ 0.009592   ┆ 9.182499     ┆ 59.729957    ┆ 0   │\n",
      "└──────────┴─────────┴───────────┴────────────┴───┴────────────┴──────────────┴──────────────┴─────┘ shape: (6_503_686, 19)\n",
      "┌──────────┬─────────┬───────────┬────────────┬───┬────────────┬──────────────┬──────────────┬─────┐\n",
      "│ session  ┆ aid     ┆ last_type ┆ session_le ┆ … ┆ last7days_ ┆ inclusion_ra ┆ average_inte ┆ gt  │\n",
      "│ ---      ┆ ---     ┆ ---       ┆ ngth       ┆   ┆ interactio ┆ te           ┆ ractions_ph  ┆ --- │\n",
      "│ i32      ┆ i32     ┆ u8        ┆ ---        ┆   ┆ n_rate     ┆ ---          ┆ ---          ┆ i32 │\n",
      "│          ┆         ┆           ┆ i32        ┆   ┆ ---        ┆ f64          ┆ f64          ┆     │\n",
      "│          ┆         ┆           ┆            ┆   ┆ f64        ┆              ┆              ┆     │\n",
      "╞══════════╪═════════╪═══════════╪════════════╪═══╪════════════╪══════════════╪══════════════╪═════╡\n",
      "│ 11098529 ┆ 1105029 ┆ 0         ┆ 0          ┆ … ┆ 0.020202   ┆ 0.077767     ┆ 0.297562     ┆ 0   │\n",
      "│ 11098531 ┆ 624163  ┆ 2         ┆ 546        ┆ … ┆ 0.013889   ┆ 0.026104     ┆ 0.147819     ┆ 0   │\n",
      "│ 11098531 ┆ 1553691 ┆ 2         ┆ 546        ┆ … ┆ 0.225806   ┆ 0.011964     ┆ 0.049012     ┆ 0   │\n",
      "│ 11098531 ┆ 1449555 ┆ 2         ┆ 546        ┆ … ┆ 0.068966   ┆ 0.00707      ┆ 0.085367     ┆ 0   │\n",
      "│ …        ┆ …       ┆ …         ┆ …          ┆ … ┆ …          ┆ …            ┆ …            ┆ …   │\n",
      "│ 12899763 ┆ 750901  ┆ 0         ┆ 22         ┆ … ┆ 0.103571   ┆ 0.097345     ┆ 0.424884     ┆ 0   │\n",
      "│ 12899769 ┆ 719585  ┆ 0         ┆ 0          ┆ … ┆ 0.046358   ┆ 0.203935     ┆ 0.903376     ┆ 0   │\n",
      "│ 12899771 ┆ 1160655 ┆ 0         ┆ 0          ┆ … ┆ 0.028571   ┆ 0.788547     ┆ 3.906964     ┆ 0   │\n",
      "│ 12899775 ┆ 1743151 ┆ 0         ┆ 0          ┆ … ┆ 0.009592   ┆ 9.182499     ┆ 59.729957    ┆ 0   │\n",
      "└──────────┴─────────┴───────────┴────────────┴───┴────────────┴──────────────┴──────────────┴─────┘\n"
     ]
    }
   ],
   "source": [
    "# add gts\n",
    "type2id = {\"clicks\": 0, \"carts\": 1, \"orders\": 2}\n",
    "validB_long = validB.explode(\"ground_truth\").select([\n",
    "    pl.col(\"session\").cast(pl.datatypes.Int32),\n",
    "    pl.col(\"ground_truth\").cast(pl.datatypes.Int32).alias(\"aid\"),\n",
    "    pl.col(\"type\").map_dict(type2id).cast(pl.datatypes.Int8),\n",
    "]).with_columns(pl.lit(1).alias('gt'))\n",
    "\n",
    "validB_click = validB_long.filter(pl.col(\"type\") == 0)\n",
    "validB_cart = validB_long.filter(pl.col(\"type\") == 1)\n",
    "validB_order = validB_long.filter(pl.col(\"type\") == 2)\n",
    "\n",
    "train_df_click = train_df.join(validB_click, on=[\"session\", \"aid\"], how=\"left\").with_columns(pl.all().fill_null(0)).drop(\"type\")\n",
    "train_df_cart = train_df.join(validB_cart, on=[\"session\", \"aid\"], how=\"left\").with_columns(pl.all().fill_null(0)).drop(\"type\")\n",
    "train_df_order = train_df.join(validB_order, on=[\"session\", \"aid\"], how=\"left\").with_columns(pl.all().fill_null(0)).drop(\"type\")\n",
    "\n",
    "print(train_df_click, train_df_cart, train_df_order)"
   ]
  },
  {
   "cell_type": "code",
   "execution_count": 13,
   "id": "62a868a2",
   "metadata": {
    "execution": {
     "iopub.execute_input": "2023-08-03T20:10:20.254677Z",
     "iopub.status.busy": "2023-08-03T20:10:20.253734Z",
     "iopub.status.idle": "2023-08-03T20:11:28.469745Z",
     "shell.execute_reply": "2023-08-03T20:11:28.468172Z"
    },
    "papermill": {
     "duration": 68.240285,
     "end_time": "2023-08-03T20:11:28.482311",
     "exception": false,
     "start_time": "2023-08-03T20:10:20.242026",
     "status": "completed"
    },
    "tags": []
   },
   "outputs": [
    {
     "name": "stdout",
     "output_type": "stream",
     "text": [
      "CPU times: user 1min 2s, sys: 6.03 s, total: 1min 8s\n",
      "Wall time: 1min 8s\n"
     ]
    }
   ],
   "source": [
    "%%time\n",
    "from collections import defaultdict\n",
    "\n",
    "validA = validA.sort(['session', 'ts'], descending=[False, True])\n",
    "\n",
    "count_in_session = defaultdict(lambda: 0)\n",
    "for row in validA.iter_rows():\n",
    "    count_in_session[(row[0], row[1])] += 1\n",
    "\n",
    "def session_item_features(df):\n",
    "    df = df.with_columns(\n",
    "        pl.struct(pl.col(['session', 'aid'])).apply(lambda x: count_in_session[x['aid'], x['session']]).alias(\"count_within_session\"),\n",
    "    )\n",
    "    return df\n",
    "\n",
    "train_df_click = session_item_features(train_df_click).select([pl.all().exclude('gt'), pl.col('gt')])\n",
    "train_df_cart = session_item_features(train_df_cart).select([pl.all().exclude('gt'), pl.col('gt')])\n",
    "train_df_order = session_item_features(train_df_order).select([pl.all().exclude('gt'), pl.col('gt')])"
   ]
  },
  {
   "cell_type": "code",
   "execution_count": 14,
   "id": "cf3cf14e",
   "metadata": {
    "execution": {
     "iopub.execute_input": "2023-08-03T20:11:28.505409Z",
     "iopub.status.busy": "2023-08-03T20:11:28.505016Z",
     "iopub.status.idle": "2023-08-03T20:11:28.515726Z",
     "shell.execute_reply": "2023-08-03T20:11:28.514331Z"
    },
    "papermill": {
     "duration": 0.025555,
     "end_time": "2023-08-03T20:11:28.518851",
     "exception": false,
     "start_time": "2023-08-03T20:11:28.493296",
     "status": "completed"
    },
    "tags": []
   },
   "outputs": [
    {
     "data": {
      "text/plain": [
       "3"
      ]
     },
     "execution_count": 14,
     "metadata": {},
     "output_type": "execute_result"
    }
   ],
   "source": [
    "import polars as pl\n",
    "data = {'a': [1, 2, 3],\n",
    "       'b': [2, 3, 4]}\n",
    "\n",
    "def f(a, b):\n",
    "    return a + b\n",
    "df = pl.DataFrame(data)\n",
    "\n",
    "df.shape[0]"
   ]
  },
  {
   "cell_type": "code",
   "execution_count": 15,
   "id": "2c8a6feb",
   "metadata": {
    "execution": {
     "iopub.execute_input": "2023-08-03T20:11:28.541431Z",
     "iopub.status.busy": "2023-08-03T20:11:28.541033Z",
     "iopub.status.idle": "2023-08-03T20:11:47.570425Z",
     "shell.execute_reply": "2023-08-03T20:11:47.568938Z"
    },
    "papermill": {
     "duration": 19.044914,
     "end_time": "2023-08-03T20:11:47.574040",
     "exception": false,
     "start_time": "2023-08-03T20:11:28.529126",
     "status": "completed"
    },
    "tags": []
   },
   "outputs": [],
   "source": [
    "# output\n",
    "import pathlib\n",
    "\n",
    "path_click: pathlib.Path = '/kaggle/working/train_df_click.parquet'\n",
    "path_cart: pathlib.Path = '/kaggle/working/train_df_cart.parquet'\n",
    "path_order: pathlib.Path = '/kaggle/working/train_df_order.parquet'\n",
    "\n",
    "train_df_click.write_parquet(path_click)\n",
    "train_df_cart.write_parquet(path_cart)\n",
    "train_df_order.write_parquet(path_order)"
   ]
  },
  {
   "cell_type": "markdown",
   "id": "433baf76",
   "metadata": {
    "papermill": {
     "duration": 0.01216,
     "end_time": "2023-08-03T20:11:47.600342",
     "exception": false,
     "start_time": "2023-08-03T20:11:47.588182",
     "status": "completed"
    },
    "tags": []
   },
   "source": [
    "# Load Test Data"
   ]
  },
  {
   "cell_type": "code",
   "execution_count": 16,
   "id": "a1d30f82",
   "metadata": {
    "execution": {
     "iopub.execute_input": "2023-08-03T20:11:47.625415Z",
     "iopub.status.busy": "2023-08-03T20:11:47.624740Z",
     "iopub.status.idle": "2023-08-03T20:12:03.612394Z",
     "shell.execute_reply": "2023-08-03T20:12:03.610549Z"
    },
    "papermill": {
     "duration": 16.003341,
     "end_time": "2023-08-03T20:12:03.615519",
     "exception": false,
     "start_time": "2023-08-03T20:11:47.612178",
     "status": "completed"
    },
    "tags": []
   },
   "outputs": [],
   "source": [
    "# Get test data\n",
    "import numpy as np\n",
    "import pandas as pd\n",
    "\n",
    "from pathlib import Path\n",
    "\n",
    "data_path = Path('/kaggle/input/recsys-dataset/')\n",
    "\n",
    "test_sessions = pd.DataFrame()\n",
    "chunks = pd.read_json(data_path / 'otto-recsys-test.jsonl', lines=True, chunksize=100_000)\n",
    "\n",
    "for e, chunk in enumerate(chunks):\n",
    "    event_dict = {\n",
    "        'session': [],\n",
    "        'aid': [],\n",
    "        'ts': [],\n",
    "        'type': [],\n",
    "    }\n",
    "    if e < 2:\n",
    "        for session, events in zip(chunk['session'].tolist(), chunk['events'].tolist()):\n",
    "            for event in events:\n",
    "                event_dict['session'].append(session)\n",
    "                event_dict['aid'].append(event['aid'])\n",
    "                event_dict['ts'].append(event['ts'])\n",
    "                event_dict['type'].append(event['type'])\n",
    "        chunk_session = pd.DataFrame(event_dict)\n",
    "        test_sessions = pd.concat([test_sessions, chunk_session])\n",
    "    else:\n",
    "        break\n",
    "        \n",
    "\n",
    "test_sessions = pl.from_pandas(test_sessions.reset_index(drop=True))\n",
    "test_sessions = test_sessions.groupby('session').agg(pl.all()).sort(by='session')"
   ]
  },
  {
   "cell_type": "code",
   "execution_count": 17,
   "id": "c2638180",
   "metadata": {
    "execution": {
     "iopub.execute_input": "2023-08-03T20:12:03.638446Z",
     "iopub.status.busy": "2023-08-03T20:12:03.637420Z",
     "iopub.status.idle": "2023-08-03T20:12:20.658287Z",
     "shell.execute_reply": "2023-08-03T20:12:20.657289Z"
    },
    "papermill": {
     "duration": 17.035804,
     "end_time": "2023-08-03T20:12:20.661535",
     "exception": false,
     "start_time": "2023-08-03T20:12:03.625731",
     "status": "completed"
    },
    "tags": []
   },
   "outputs": [],
   "source": [
    "# Split test data into testA (session up to certain point) and testB (prediction)\n",
    "dictA = {'session': [], 'aid': [], 'ts': [], 'type': []}\n",
    "dictB = {'session': [], 'aid': [], 'ts': [], 'type': []}\n",
    "\n",
    "for row in test_sessions.iter_rows():\n",
    "    split_idx = np.random.randint(1,len(row[1]))\n",
    "    dictA['session'].append(row[0])\n",
    "    dictA['aid'].append(row[1][:split_idx])\n",
    "    dictA['ts'].append(row[2][:split_idx])\n",
    "    dictA['type'].append(row[3][:split_idx])\n",
    "\n",
    "    dictB['session'].append(row[0])\n",
    "    dictB['aid'].append(row[1][split_idx:])\n",
    "    dictB['ts'].append(row[2][split_idx:])\n",
    "    dictB['type'].append(row[3][split_idx:])\n",
    "    \n",
    "testA = pl.DataFrame(data=dictA).explode(['aid', 'ts', 'type'])\n",
    "testA = testA.select([pl.all().exclude('type'), pl.col('type').map_dict(type2id).alias('type')])\n",
    "testB = pl.DataFrame(data=dictB)"
   ]
  },
  {
   "cell_type": "code",
   "execution_count": 18,
   "id": "037cd5a4",
   "metadata": {
    "execution": {
     "iopub.execute_input": "2023-08-03T20:12:20.688143Z",
     "iopub.status.busy": "2023-08-03T20:12:20.687723Z",
     "iopub.status.idle": "2023-08-03T20:13:03.133332Z",
     "shell.execute_reply": "2023-08-03T20:13:03.132127Z"
    },
    "papermill": {
     "duration": 42.472959,
     "end_time": "2023-08-03T20:13:03.145625",
     "exception": false,
     "start_time": "2023-08-03T20:12:20.672666",
     "status": "completed"
    },
    "tags": []
   },
   "outputs": [
    {
     "name": "stdout",
     "output_type": "stream",
     "text": [
      "shape: (1_383_298, 18)\n",
      "┌──────────┬─────────┬───────────┬────────────┬───┬───────────┬────────────┬────────────┬────────────┐\n",
      "│ session  ┆ aid     ┆ last_type ┆ session_le ┆ … ┆ click2buy ┆ last7days_ ┆ inclusion_ ┆ average_in │\n",
      "│ ---      ┆ ---     ┆ ---       ┆ ngth       ┆   ┆ ---       ┆ interactio ┆ rate       ┆ teractions │\n",
      "│ i32      ┆ i32     ┆ u8        ┆ ---        ┆   ┆ f64       ┆ n_rate     ┆ ---        ┆ _ph        │\n",
      "│          ┆         ┆           ┆ i32        ┆   ┆           ┆ ---        ┆ f64        ┆ ---        │\n",
      "│          ┆         ┆           ┆            ┆   ┆           ┆ f64        ┆            ┆ f64        │\n",
      "╞══════════╪═════════╪═══════════╪════════════╪═══╪═══════════╪════════════╪════════════╪════════════╡\n",
      "│ 12899779 ┆ 59625   ┆ 0         ┆ 0          ┆ … ┆ 0.0       ┆ 0.0        ┆ 0.004894   ┆ 0.020442   │\n",
      "│ 12899779 ┆ 941596  ┆ 0         ┆ 0          ┆ … ┆ 61.0      ┆ 0.0        ┆ 0.022297   ┆ 0.140253   │\n",
      "│ 12899779 ┆ 731692  ┆ 0         ┆ 0          ┆ … ┆ 24.0      ┆ 0.046512   ┆ 0.022841   ┆ 0.132146   │\n",
      "│ 12899779 ┆ 1340695 ┆ 0         ┆ 0          ┆ … ┆ 0.0       ┆ 0.083333   ┆ 0.004894   ┆ 0.018302   │\n",
      "│ …        ┆ …       ┆ …         ┆ …          ┆ … ┆ …         ┆ …          ┆ …          ┆ …          │\n",
      "│ 13099777 ┆ 114286  ┆ 0         ┆ 0          ┆ … ┆ 14.617021 ┆ 0.023838   ┆ 0.23167    ┆ 1.305696   │\n",
      "│ 13099777 ┆ 468584  ┆ 0         ┆ 0          ┆ … ┆ 5.805195  ┆ 0.008798   ┆ 0.19904    ┆ 1.057871   │\n",
      "│ 13099778 ┆ 1025490 ┆ 0         ┆ 0          ┆ … ┆ 287.0     ┆ 0.139159   ┆ 0.102783   ┆ 0.792075   │\n",
      "│ 13099778 ┆ 926609  ┆ 0         ┆ 0          ┆ … ┆ 433.0     ┆ 0.317019   ┆ 0.535125   ┆ 2.78889    │\n",
      "└──────────┴─────────┴───────────┴────────────┴───┴───────────┴────────────┴────────────┴────────────┘\n"
     ]
    }
   ],
   "source": [
    "# Generate test candidates\n",
    "# Actual Candidates Generator\n",
    "test_df = testA.to_pandas()\n",
    "# covisit loaded above \n",
    "# covisit = generate_covisit(pl.concat([train, validA]), EVENT_TYPE)\n",
    "test_df = test_df.sort_values(['session', 'ts'], ascending=[True, False]).groupby('session').apply(lambda x: generate_candidates(x, covisit_clicks)).reset_index(name=\"aid\")\n",
    "test_df = pl.from_pandas(test_df)\n",
    "test_df.columns = ['session', 'aid']\n",
    "test_df = test_df.explode('aid')\n",
    "test_df = test_df.select([\n",
    "    pl.col('session').cast(pl.datatypes.Int32).alias('session'), \n",
    "    pl.col('aid').cast(pl.datatypes.Int32).alias('aid')\n",
    "])\n",
    "\n",
    "# Using simple candidates generator\n",
    "# test_df = generate_candidates_simple(testA).select([pl.all().cast(pl.datatypes.Int32)])    \n",
    "# session_features = generate_session_features(testA.select([\n",
    "#     pl.col('session').cast(pl.datatypes.Int32),\n",
    "#     pl.col('aid').cast(pl.datatypes.Int32),\n",
    "#     pl.col('ts').apply(lambda x: x / 1000).cast(pl.datatypes.Int32),\n",
    "#     pl.col(\"type\").map_dict(type2id).cast(pl.datatypes.Int8)\n",
    "# ]))\n",
    "\n",
    "for session in session_features:\n",
    "    test_df = test_df.join(session, on='session', how='left')\n",
    "\n",
    "for aid in aid_features:\n",
    "    test_df = test_df.join(aid, on='aid', how='left')\n",
    "    \n",
    "test_df = test_df.with_columns(pl.all().fill_null(0))\n",
    "print(test_df)"
   ]
  },
  {
   "cell_type": "code",
   "execution_count": 19,
   "id": "6e2e1edc",
   "metadata": {
    "execution": {
     "iopub.execute_input": "2023-08-03T20:13:03.167890Z",
     "iopub.status.busy": "2023-08-03T20:13:03.167059Z",
     "iopub.status.idle": "2023-08-03T20:13:10.281302Z",
     "shell.execute_reply": "2023-08-03T20:13:10.279793Z"
    },
    "papermill": {
     "duration": 7.128895,
     "end_time": "2023-08-03T20:13:10.284311",
     "exception": false,
     "start_time": "2023-08-03T20:13:03.155416",
     "status": "completed"
    },
    "tags": []
   },
   "outputs": [
    {
     "name": "stdout",
     "output_type": "stream",
     "text": [
      "CPU times: user 6.91 s, sys: 332 ms, total: 7.24 s\n",
      "Wall time: 7.1 s\n"
     ]
    }
   ],
   "source": [
    "%%time\n",
    "from collections import defaultdict\n",
    "\n",
    "testA = testA.sort(['session', 'ts'], descending=[False, True])\n",
    "\n",
    "count_in_session = defaultdict(lambda: 0)\n",
    "for row in testA.iter_rows():\n",
    "    count_in_session[(row[0], row[1])] += 1\n",
    "\n",
    "def session_item_features(df):\n",
    "    df = df.with_columns(\n",
    "        pl.struct(pl.col(['session', 'aid'])).apply(lambda x: count_in_session[x['aid'], x['session']]).alias(\"count_within_session\"),\n",
    "    )\n",
    "    return df\n",
    "\n",
    "test_df = session_item_features(test_df)"
   ]
  },
  {
   "cell_type": "code",
   "execution_count": 20,
   "id": "64ad9702",
   "metadata": {
    "execution": {
     "iopub.execute_input": "2023-08-03T20:13:10.308189Z",
     "iopub.status.busy": "2023-08-03T20:13:10.307712Z",
     "iopub.status.idle": "2023-08-03T20:13:10.314839Z",
     "shell.execute_reply": "2023-08-03T20:13:10.313400Z"
    },
    "papermill": {
     "duration": 0.023304,
     "end_time": "2023-08-03T20:13:10.318564",
     "exception": false,
     "start_time": "2023-08-03T20:13:10.295260",
     "status": "completed"
    },
    "tags": []
   },
   "outputs": [
    {
     "name": "stdout",
     "output_type": "stream",
     "text": [
      "shape: (1_383_298, 19)\n",
      "┌──────────┬─────────┬───────────┬────────────┬───┬────────────┬────────────┬────────────┬────────────┐\n",
      "│ session  ┆ aid     ┆ last_type ┆ session_le ┆ … ┆ last7days_ ┆ inclusion_ ┆ average_in ┆ count_with │\n",
      "│ ---      ┆ ---     ┆ ---       ┆ ngth       ┆   ┆ interactio ┆ rate       ┆ teractions ┆ in_session │\n",
      "│ i32      ┆ i32     ┆ u8        ┆ ---        ┆   ┆ n_rate     ┆ ---        ┆ _ph        ┆ ---        │\n",
      "│          ┆         ┆           ┆ i32        ┆   ┆ ---        ┆ f64        ┆ ---        ┆ i64        │\n",
      "│          ┆         ┆           ┆            ┆   ┆ f64        ┆            ┆ f64        ┆            │\n",
      "╞══════════╪═════════╪═══════════╪════════════╪═══╪════════════╪════════════╪════════════╪════════════╡\n",
      "│ 12899779 ┆ 59625   ┆ 0         ┆ 0          ┆ … ┆ 0.0        ┆ 0.004894   ┆ 0.020442   ┆ 0          │\n",
      "│ 12899779 ┆ 941596  ┆ 0         ┆ 0          ┆ … ┆ 0.0        ┆ 0.022297   ┆ 0.140253   ┆ 0          │\n",
      "│ 12899779 ┆ 731692  ┆ 0         ┆ 0          ┆ … ┆ 0.046512   ┆ 0.022841   ┆ 0.132146   ┆ 0          │\n",
      "│ 12899779 ┆ 1340695 ┆ 0         ┆ 0          ┆ … ┆ 0.083333   ┆ 0.004894   ┆ 0.018302   ┆ 0          │\n",
      "│ …        ┆ …       ┆ …         ┆ …          ┆ … ┆ …          ┆ …          ┆ …          ┆ …          │\n",
      "│ 13099777 ┆ 114286  ┆ 0         ┆ 0          ┆ … ┆ 0.023838   ┆ 0.23167    ┆ 1.305696   ┆ 0          │\n",
      "│ 13099777 ┆ 468584  ┆ 0         ┆ 0          ┆ … ┆ 0.008798   ┆ 0.19904    ┆ 1.057871   ┆ 0          │\n",
      "│ 13099778 ┆ 1025490 ┆ 0         ┆ 0          ┆ … ┆ 0.139159   ┆ 0.102783   ┆ 0.792075   ┆ 0          │\n",
      "│ 13099778 ┆ 926609  ┆ 0         ┆ 0          ┆ … ┆ 0.317019   ┆ 0.535125   ┆ 2.78889    ┆ 0          │\n",
      "└──────────┴─────────┴───────────┴────────────┴───┴────────────┴────────────┴────────────┴────────────┘\n"
     ]
    }
   ],
   "source": [
    "print(test_df)"
   ]
  },
  {
   "cell_type": "code",
   "execution_count": 21,
   "id": "32578f4a",
   "metadata": {
    "execution": {
     "iopub.execute_input": "2023-08-03T20:13:10.342238Z",
     "iopub.status.busy": "2023-08-03T20:13:10.341757Z",
     "iopub.status.idle": "2023-08-03T20:13:10.770747Z",
     "shell.execute_reply": "2023-08-03T20:13:10.769736Z"
    },
    "papermill": {
     "duration": 0.44496,
     "end_time": "2023-08-03T20:13:10.774143",
     "exception": false,
     "start_time": "2023-08-03T20:13:10.329183",
     "status": "completed"
    },
    "tags": []
   },
   "outputs": [],
   "source": [
    "actual_events = testB.explode(['aid', 'ts', 'type']).select([\n",
    "    pl.col('session').cast(pl.datatypes.Int32),\n",
    "    pl.col('aid').cast(pl.datatypes.Int32),\n",
    "    pl.col('ts').apply(lambda x: x / 1000).cast(pl.datatypes.Int32),\n",
    "    pl.col('type').map_dict(type2id).cast(pl.datatypes.Int8)\n",
    "])"
   ]
  },
  {
   "cell_type": "code",
   "execution_count": 22,
   "id": "9a53379f",
   "metadata": {
    "execution": {
     "iopub.execute_input": "2023-08-03T20:13:10.798737Z",
     "iopub.status.busy": "2023-08-03T20:13:10.797250Z",
     "iopub.status.idle": "2023-08-03T20:13:12.235220Z",
     "shell.execute_reply": "2023-08-03T20:13:12.232133Z"
    },
    "papermill": {
     "duration": 1.453897,
     "end_time": "2023-08-03T20:13:12.238686",
     "exception": false,
     "start_time": "2023-08-03T20:13:10.784789",
     "status": "completed"
    },
    "tags": []
   },
   "outputs": [],
   "source": [
    "# output\n",
    "import pathlib\n",
    "\n",
    "path_test: pathlib.Path = '/kaggle/working/test_df.parquet'\n",
    "path_actual_events: pathlib.Path = '/kaggle/working/actual_events.parquet'\n",
    "\n",
    "test_df.write_parquet(path_test)\n",
    "actual_events.write_parquet(path_actual_events)"
   ]
  },
  {
   "cell_type": "code",
   "execution_count": null,
   "id": "2b1b2f83",
   "metadata": {
    "papermill": {
     "duration": 0.009873,
     "end_time": "2023-08-03T20:13:12.259194",
     "exception": false,
     "start_time": "2023-08-03T20:13:12.249321",
     "status": "completed"
    },
    "tags": []
   },
   "outputs": [],
   "source": []
  }
 ],
 "metadata": {
  "kernelspec": {
   "display_name": "Python 3",
   "language": "python",
   "name": "python3"
  },
  "language_info": {
   "codemirror_mode": {
    "name": "ipython",
    "version": 3
   },
   "file_extension": ".py",
   "mimetype": "text/x-python",
   "name": "python",
   "nbconvert_exporter": "python",
   "pygments_lexer": "ipython3",
   "version": "3.10.12"
  },
  "papermill": {
   "default_parameters": {},
   "duration": 536.012816,
   "end_time": "2023-08-03T20:13:15.602491",
   "environment_variables": {},
   "exception": null,
   "input_path": "__notebook__.ipynb",
   "output_path": "__notebook__.ipynb",
   "parameters": {},
   "start_time": "2023-08-03T20:04:19.589675",
   "version": "2.4.0"
  }
 },
 "nbformat": 4,
 "nbformat_minor": 5
}
