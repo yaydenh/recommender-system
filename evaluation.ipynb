{
 "cells": [
  {
   "cell_type": "markdown",
   "id": "334fa24e",
   "metadata": {
    "papermill": {
     "duration": 0.004858,
     "end_time": "2023-08-03T20:38:50.666074",
     "exception": false,
     "start_time": "2023-08-03T20:38:50.661216",
     "status": "completed"
    },
    "tags": []
   },
   "source": [
    "# Model Evaluation"
   ]
  },
  {
   "cell_type": "code",
   "execution_count": 1,
   "id": "cdda43ef",
   "metadata": {
    "execution": {
     "iopub.execute_input": "2023-08-03T20:38:50.676714Z",
     "iopub.status.busy": "2023-08-03T20:38:50.676001Z",
     "iopub.status.idle": "2023-08-03T20:38:51.661078Z",
     "shell.execute_reply": "2023-08-03T20:38:51.660194Z"
    },
    "papermill": {
     "duration": 0.993464,
     "end_time": "2023-08-03T20:38:51.663866",
     "exception": false,
     "start_time": "2023-08-03T20:38:50.670402",
     "status": "completed"
    },
    "tags": []
   },
   "outputs": [],
   "source": [
    "import polars as pl\n",
    "\n",
    "actual_events = pl.read_parquet('../input/comp9417-preprocessing-and-test-data/actual_events.parquet')\n",
    "test_df = pl.read_parquet('../input/comp9417-preprocessing-and-test-data/test_df.parquet')"
   ]
  },
  {
   "cell_type": "code",
   "execution_count": 2,
   "id": "cb7f4207",
   "metadata": {
    "execution": {
     "iopub.execute_input": "2023-08-03T20:38:51.674256Z",
     "iopub.status.busy": "2023-08-03T20:38:51.673577Z",
     "iopub.status.idle": "2023-08-03T20:38:51.678076Z",
     "shell.execute_reply": "2023-08-03T20:38:51.677253Z"
    },
    "papermill": {
     "duration": 0.01216,
     "end_time": "2023-08-03T20:38:51.680300",
     "exception": false,
     "start_time": "2023-08-03T20:38:51.668140",
     "status": "completed"
    },
    "tags": []
   },
   "outputs": [],
   "source": [
    "id2type = {0: 'clicks', 1: 'carts', 2: 'orders'}\n",
    "type2id = {'clicks': 0, 'carts': 1, 'orders': 2}"
   ]
  },
  {
   "cell_type": "code",
   "execution_count": 3,
   "id": "3cdacd6a",
   "metadata": {
    "execution": {
     "iopub.execute_input": "2023-08-03T20:38:51.690342Z",
     "iopub.status.busy": "2023-08-03T20:38:51.689700Z",
     "iopub.status.idle": "2023-08-03T20:38:51.694280Z",
     "shell.execute_reply": "2023-08-03T20:38:51.693574Z"
    },
    "papermill": {
     "duration": 0.011835,
     "end_time": "2023-08-03T20:38:51.696335",
     "exception": false,
     "start_time": "2023-08-03T20:38:51.684500",
     "status": "completed"
    },
    "tags": []
   },
   "outputs": [],
   "source": [
    "import pickle\n",
    "\n",
    "def load_model(name):\n",
    "    with open(name, 'rb') as file:  \n",
    "        model = pickle.load(file)\n",
    "        \n",
    "    return model"
   ]
  },
  {
   "cell_type": "code",
   "execution_count": 4,
   "id": "322784b8",
   "metadata": {
    "execution": {
     "iopub.execute_input": "2023-08-03T20:38:51.705963Z",
     "iopub.status.busy": "2023-08-03T20:38:51.705616Z",
     "iopub.status.idle": "2023-08-03T20:38:51.722199Z",
     "shell.execute_reply": "2023-08-03T20:38:51.721297Z"
    },
    "papermill": {
     "duration": 0.024,
     "end_time": "2023-08-03T20:38:51.724421",
     "exception": false,
     "start_time": "2023-08-03T20:38:51.700421",
     "status": "completed"
    },
    "tags": []
   },
   "outputs": [],
   "source": [
    "import pandas as pd\n",
    "\n",
    "def kaggle_evaluate(name, pred_df):\n",
    "#     print(pred_df, actual_events)\n",
    "    click_preds = pred_df.groupby('session').agg(pl.col('aid').sort_by('click_scores', descending=True).slice(0,20))\n",
    "    cart_preds = pred_df.groupby('session').agg(pl.col('aid').sort_by('cart_scores', descending=True).slice(0,20))\n",
    "    order_preds = pred_df.groupby('session').agg(pl.col('aid').sort_by('order_scores', descending=True).slice(0,20))\n",
    "\n",
    "    click_new = click_preds.with_columns(\n",
    "        pl.lit('clicks').alias('type')\n",
    "    ).rename({'aid':'pred_labels'})\n",
    "    cart_new = cart_preds.with_columns(\n",
    "        pl.lit('carts').alias('type')\n",
    "    ).rename({'aid':'pred_labels'})\n",
    "    order_new = order_preds.with_columns(\n",
    "        pl.lit('orders').alias('type')\n",
    "    ).rename({'aid':'pred_labels'})\n",
    "\n",
    "    preds = pl.concat([click_new, cart_new, order_new])\n",
    "    print(preds)\n",
    "    print(actual_events)\n",
    "    \n",
    "    gt = actual_events.groupby(['session', 'type']).agg(pl.col('aid')).rename({'aid': 'gt_labels'}).sort(by='session').with_columns(pl.col('type').map_dict(id2type))\n",
    "    gt = gt.to_pandas()\n",
    "    gt.loc[gt.type == 'clicks', 'gt_labels'] = gt.loc[gt.type == 'clicks', 'gt_labels'].str[:1]\n",
    "    gt = pl.from_pandas(gt)\n",
    "    \n",
    "    preds_and_gt = gt.join(preds, how='left', on=['session', 'type']).with_columns(\n",
    "        hits = pl.col('pred_labels').list.intersection('gt_labels').list.lengths(),\n",
    "        gt_count = pl.col('gt_labels').list.lengths()\n",
    "    )\n",
    "    \n",
    "    preds_and_gt = preds_and_gt.to_pandas()\n",
    "    preds_and_gt.loc[preds_and_gt.type == 'carts', 'gt_labels'] = preds_and_gt.loc[preds_and_gt.type == 'carts', 'gt_labels'].str[:20]\n",
    "    preds_and_gt.loc[preds_and_gt.type == 'orders', 'gt_labels'] = preds_and_gt.loc[preds_and_gt.type == 'orders', 'gt_labels'].str[:20]\n",
    "    preds_and_gt = pl.from_pandas(preds_and_gt)\n",
    "    preds_and_gt = preds_and_gt.with_columns(\n",
    "        gt_count = pl.col('gt_labels').list.lengths()\n",
    "    )\n",
    "    \n",
    "    recall_per_type = preds_and_gt.groupby('type').agg(recall = pl.col('hits').sum() / pl.col('gt_count').sum())\n",
    "    local_validation_score = 0\n",
    "    weights = {'clicks': 0.1, 'carts': 0.3, 'orders': 0.6}\n",
    "    for row in recall_per_type.rows(named=True):\n",
    "        local_validation_score += row['recall'] * weights[row['type']]\n",
    "    \n",
    "    print(f'{name}: {local_validation_score}')"
   ]
  },
  {
   "cell_type": "code",
   "execution_count": 5,
   "id": "eb477ae4",
   "metadata": {
    "execution": {
     "iopub.execute_input": "2023-08-03T20:38:51.734441Z",
     "iopub.status.busy": "2023-08-03T20:38:51.733805Z",
     "iopub.status.idle": "2023-08-03T20:38:51.740336Z",
     "shell.execute_reply": "2023-08-03T20:38:51.739252Z"
    },
    "papermill": {
     "duration": 0.01419,
     "end_time": "2023-08-03T20:38:51.742795",
     "exception": false,
     "start_time": "2023-08-03T20:38:51.728605",
     "status": "completed"
    },
    "tags": []
   },
   "outputs": [],
   "source": [
    "def evaluate_model(name, models):\n",
    "    model_click = models[0]\n",
    "    model_cart = models[1]\n",
    "    model_order = models[2]\n",
    "    \n",
    "    click_scores = model_click.predict(test_df.to_pandas())\n",
    "    cart_scores = model_cart.predict(test_df.to_pandas())\n",
    "    order_scores = model_order.predict(test_df.to_pandas())\n",
    "\n",
    "    pred_df = test_df.with_columns(click_scores = pl.lit(click_scores), cart_scores = pl.lit(cart_scores), order_scores = pl.lit(order_scores))\n",
    "    \n",
    "    kaggle_evaluate(name, pred_df)"
   ]
  },
  {
   "cell_type": "code",
   "execution_count": 6,
   "id": "0bf4dcc4",
   "metadata": {
    "execution": {
     "iopub.execute_input": "2023-08-03T20:38:51.752491Z",
     "iopub.status.busy": "2023-08-03T20:38:51.752116Z",
     "iopub.status.idle": "2023-08-03T20:38:51.764609Z",
     "shell.execute_reply": "2023-08-03T20:38:51.763478Z"
    },
    "papermill": {
     "duration": 0.020081,
     "end_time": "2023-08-03T20:38:51.766973",
     "exception": false,
     "start_time": "2023-08-03T20:38:51.746892",
     "status": "completed"
    },
    "tags": []
   },
   "outputs": [],
   "source": [
    "def kaggle_evaluate2(name, preds):\n",
    "    gt = actual_events.groupby(['session', 'type']).agg(pl.col('aid')).rename({'aid': 'gt_labels'}).sort(by='session').with_columns(pl.col('type').map_dict(id2type))\n",
    "    gt = gt.to_pandas()\n",
    "    gt.loc[gt.type == 'clicks', 'gt_labels'] = gt.loc[gt.type == 'clicks', 'gt_labels'].str[:1]\n",
    "    gt = pl.from_pandas(gt)\n",
    "    \n",
    "    preds_and_gt = gt.join(preds, how='left', on=['session', 'type']).with_columns(\n",
    "        hits = pl.col('pred_labels').list.intersection('gt_labels').list.lengths(),\n",
    "        gt_count = pl.col('gt_labels').list.lengths()\n",
    "    )\n",
    "    \n",
    "    preds_and_gt = preds_and_gt.to_pandas()\n",
    "    preds_and_gt.loc[preds_and_gt.type == 'carts', 'gt_labels'] = preds_and_gt.loc[preds_and_gt.type == 'carts', 'gt_labels'].str[:20]\n",
    "    preds_and_gt.loc[preds_and_gt.type == 'orders', 'gt_labels'] = preds_and_gt.loc[preds_and_gt.type == 'orders', 'gt_labels'].str[:20]\n",
    "    preds_and_gt = pl.from_pandas(preds_and_gt)\n",
    "    preds_and_gt = preds_and_gt.with_columns(\n",
    "        gt_count = pl.col('gt_labels').list.lengths()\n",
    "    )\n",
    "    \n",
    "    recall_per_type = preds_and_gt.groupby('type').agg(recall = pl.col('hits').sum() / pl.col('gt_count').sum())\n",
    "    local_validation_score = 0\n",
    "    weights = {'clicks': 0.1, 'carts': 0.3, 'orders': 0.6}\n",
    "    for row in recall_per_type.rows(named=True):\n",
    "        local_validation_score += row['recall'] * weights[row['type']]\n",
    "    \n",
    "    print(f'{name}: {local_validation_score}')"
   ]
  },
  {
   "cell_type": "code",
   "execution_count": 7,
   "id": "4492881f",
   "metadata": {
    "execution": {
     "iopub.execute_input": "2023-08-03T20:38:51.776727Z",
     "iopub.status.busy": "2023-08-03T20:38:51.776352Z",
     "iopub.status.idle": "2023-08-03T20:38:53.427168Z",
     "shell.execute_reply": "2023-08-03T20:38:53.425776Z"
    },
    "papermill": {
     "duration": 1.658899,
     "end_time": "2023-08-03T20:38:53.430019",
     "exception": false,
     "start_time": "2023-08-03T20:38:51.771120",
     "status": "completed"
    },
    "tags": []
   },
   "outputs": [
    {
     "name": "stdout",
     "output_type": "stream",
     "text": [
      "shape: (600_000, 3)\n",
      "┌──────────┬──────────────────────────┬────────┐\n",
      "│ session  ┆ pred_labels              ┆ type   │\n",
      "│ ---      ┆ ---                      ┆ ---    │\n",
      "│ i32      ┆ list[i32]                ┆ str    │\n",
      "╞══════════╪══════════════════════════╪════════╡\n",
      "│ 12978436 ┆ [863998]                 ┆ click  │\n",
      "│ 13004644 ┆ [1654098]                ┆ click  │\n",
      "│ 12930160 ┆ [1733797]                ┆ click  │\n",
      "│ 12970716 ┆ [1274934]                ┆ click  │\n",
      "│ …        ┆ …                        ┆ …      │\n",
      "│ 12973983 ┆ [95232, 554660, … 78453] ┆ orders │\n",
      "│ 12917691 ┆ [1056655]                ┆ orders │\n",
      "│ 12937159 ┆ [1350261]                ┆ orders │\n",
      "│ 13015075 ┆ [554660]                 ┆ orders │\n",
      "└──────────┴──────────────────────────┴────────┘\n",
      "simple_candidate_gen: 0.415829379622464\n"
     ]
    }
   ],
   "source": [
    "# Simple candidate generator \n",
    "simple_preds = test_df.select(['session', 'aid']).groupby('session').agg(pred_labels=pl.col('aid'))\n",
    "simple_preds = pl.concat([simple_preds.with_columns(pl.lit('click').alias('type')), simple_preds.with_columns(pl.lit('carts').alias('type')), simple_preds.with_columns(pl.lit('orders').alias('type'))])\n",
    "print(simple_preds)\n",
    "kaggle_evaluate2('simple_candidate_gen', simple_preds)"
   ]
  },
  {
   "cell_type": "code",
   "execution_count": 8,
   "id": "8408f056",
   "metadata": {
    "execution": {
     "iopub.execute_input": "2023-08-03T20:38:53.440845Z",
     "iopub.status.busy": "2023-08-03T20:38:53.440420Z",
     "iopub.status.idle": "2023-08-03T20:39:01.956567Z",
     "shell.execute_reply": "2023-08-03T20:39:01.955304Z"
    },
    "papermill": {
     "duration": 8.524706,
     "end_time": "2023-08-03T20:39:01.959282",
     "exception": false,
     "start_time": "2023-08-03T20:38:53.434576",
     "status": "completed"
    },
    "tags": []
   },
   "outputs": [
    {
     "name": "stderr",
     "output_type": "stream",
     "text": [
      "/opt/conda/lib/python3.10/site-packages/scipy/__init__.py:146: UserWarning: A NumPy version >=1.16.5 and <1.23.0 is required for this version of SciPy (detected version 1.23.5\n",
      "  warnings.warn(f\"A NumPy version >={np_minversion} and <{np_maxversion}\"\n"
     ]
    },
    {
     "name": "stdout",
     "output_type": "stream",
     "text": [
      "shape: (600_000, 3)\n",
      "┌──────────┬─────────────────────────────┬────────┐\n",
      "│ session  ┆ pred_labels                 ┆ type   │\n",
      "│ ---      ┆ ---                         ┆ ---    │\n",
      "│ i32      ┆ list[i32]                   ┆ str    │\n",
      "╞══════════╪═════════════════════════════╪════════╡\n",
      "│ 12982584 ┆ [1324525]                   ┆ clicks │\n",
      "│ 13046604 ┆ [1167765, 554660]           ┆ clicks │\n",
      "│ 12984900 ┆ [1132033, 572241]           ┆ clicks │\n",
      "│ 13027040 ┆ [335398, 341862, … 1481038] ┆ clicks │\n",
      "│ …        ┆ …                           ┆ …      │\n",
      "│ 12951275 ┆ [1577268]                   ┆ orders │\n",
      "│ 12952147 ┆ [133627, 1232342]           ┆ orders │\n",
      "│ 12982631 ┆ [1332057]                   ┆ orders │\n",
      "│ 12913511 ┆ [380509, 69440, … 1569250]  ┆ orders │\n",
      "└──────────┴─────────────────────────────┴────────┘\n",
      "shape: (924_654, 4)\n",
      "┌──────────┬─────────┬────────────┬──────┐\n",
      "│ session  ┆ aid     ┆ ts         ┆ type │\n",
      "│ ---      ┆ ---     ┆ ---        ┆ ---  │\n",
      "│ i32      ┆ i32     ┆ i32        ┆ i8   │\n",
      "╞══════════╪═════════╪════════════╪══════╡\n",
      "│ 12899779 ┆ 875854  ┆ 1661724026 ┆ 0    │\n",
      "│ 12899780 ┆ 973453  ┆ 1661724109 ┆ 0    │\n",
      "│ 12899780 ┆ 736515  ┆ 1661724136 ┆ 0    │\n",
      "│ 12899780 ┆ 1142000 ┆ 1661724155 ┆ 0    │\n",
      "│ …        ┆ …       ┆ …          ┆ …    │\n",
      "│ 13099776 ┆ 546448  ┆ 1661844142 ┆ 0    │\n",
      "│ 13099776 ┆ 680375  ┆ 1661844212 ┆ 0    │\n",
      "│ 13099777 ┆ 109488  ┆ 1661796461 ┆ 1    │\n",
      "│ 13099778 ┆ 926609  ┆ 1661795925 ┆ 0    │\n",
      "└──────────┴─────────┴────────────┴──────┘\n",
      "XGB: 0.4368368383390994\n"
     ]
    }
   ],
   "source": [
    "event_types = ['click', 'cart', 'order']\n",
    "models = []\n",
    "for event in event_types:\n",
    "    models.append(load_model(f'../input/comp9417-training-xgboost/xgb_{event}.pkl'))\n",
    "\n",
    "evaluate_model('XGB', models)    "
   ]
  },
  {
   "cell_type": "code",
   "execution_count": 9,
   "id": "f39cadb9",
   "metadata": {
    "execution": {
     "iopub.execute_input": "2023-08-03T20:39:01.970858Z",
     "iopub.status.busy": "2023-08-03T20:39:01.970170Z",
     "iopub.status.idle": "2023-08-03T20:39:06.790334Z",
     "shell.execute_reply": "2023-08-03T20:39:06.788872Z"
    },
    "papermill": {
     "duration": 4.828697,
     "end_time": "2023-08-03T20:39:06.792875",
     "exception": false,
     "start_time": "2023-08-03T20:39:01.964178",
     "status": "completed"
    },
    "tags": []
   },
   "outputs": [
    {
     "name": "stdout",
     "output_type": "stream",
     "text": [
      "shape: (600_000, 3)\n",
      "┌──────────┬─────────────────────────────┬────────┐\n",
      "│ session  ┆ pred_labels                 ┆ type   │\n",
      "│ ---      ┆ ---                         ┆ ---    │\n",
      "│ i32      ┆ list[i32]                   ┆ str    │\n",
      "╞══════════╪═════════════════════════════╪════════╡\n",
      "│ 12901692 ┆ [325854, 96165, … 1133328]  ┆ clicks │\n",
      "│ 12973128 ┆ [1119434, 1744977, 1384241] ┆ clicks │\n",
      "│ 13011380 ┆ [1501145]                   ┆ clicks │\n",
      "│ 12911348 ┆ [1451391, 1110278]          ┆ clicks │\n",
      "│ …        ┆ …                           ┆ …      │\n",
      "│ 12918963 ┆ [420680, 216633, … 1098423] ┆ orders │\n",
      "│ 12914203 ┆ [738508]                    ┆ orders │\n",
      "│ 12965095 ┆ [1726560]                   ┆ orders │\n",
      "│ 13050023 ┆ [1299205]                   ┆ orders │\n",
      "└──────────┴─────────────────────────────┴────────┘\n",
      "shape: (924_654, 4)\n",
      "┌──────────┬─────────┬────────────┬──────┐\n",
      "│ session  ┆ aid     ┆ ts         ┆ type │\n",
      "│ ---      ┆ ---     ┆ ---        ┆ ---  │\n",
      "│ i32      ┆ i32     ┆ i32        ┆ i8   │\n",
      "╞══════════╪═════════╪════════════╪══════╡\n",
      "│ 12899779 ┆ 875854  ┆ 1661724026 ┆ 0    │\n",
      "│ 12899780 ┆ 973453  ┆ 1661724109 ┆ 0    │\n",
      "│ 12899780 ┆ 736515  ┆ 1661724136 ┆ 0    │\n",
      "│ 12899780 ┆ 1142000 ┆ 1661724155 ┆ 0    │\n",
      "│ …        ┆ …       ┆ …          ┆ …    │\n",
      "│ 13099776 ┆ 546448  ┆ 1661844142 ┆ 0    │\n",
      "│ 13099776 ┆ 680375  ┆ 1661844212 ┆ 0    │\n",
      "│ 13099777 ┆ 109488  ┆ 1661796461 ┆ 1    │\n",
      "│ 13099778 ┆ 926609  ┆ 1661795925 ┆ 0    │\n",
      "└──────────┴─────────┴────────────┴──────┘\n",
      "LightGBM: 0.4368201602810487\n"
     ]
    }
   ],
   "source": [
    "event_types = ['click', 'cart', 'order']\n",
    "models = []\n",
    "for event in event_types:\n",
    "    models.append(load_model(f'../input/comp9417-training-lightgbm/lgbm_{event}.pkl'))\n",
    "\n",
    "evaluate_model('LightGBM', models)    "
   ]
  }
 ],
 "metadata": {
  "kernelspec": {
   "display_name": "Python 3",
   "language": "python",
   "name": "python3"
  },
  "language_info": {
   "codemirror_mode": {
    "name": "ipython",
    "version": 3
   },
   "file_extension": ".py",
   "mimetype": "text/x-python",
   "name": "python",
   "nbconvert_exporter": "python",
   "pygments_lexer": "ipython3",
   "version": "3.10.12"
  },
  "papermill": {
   "default_parameters": {},
   "duration": 28.106104,
   "end_time": "2023-08-03T20:39:07.920658",
   "environment_variables": {},
   "exception": null,
   "input_path": "__notebook__.ipynb",
   "output_path": "__notebook__.ipynb",
   "parameters": {},
   "start_time": "2023-08-03T20:38:39.814554",
   "version": "2.4.0"
  }
 },
 "nbformat": 4,
 "nbformat_minor": 5
}
